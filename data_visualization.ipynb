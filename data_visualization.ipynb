{
 "cells": [
  {
   "cell_type": "code",
   "execution_count": 6,
   "metadata": {},
   "outputs": [],
   "source": [
    "import os\n",
    "from pathlib import Path\n",
    "import matplotlib.pyplot as plt\n",
    "import cv2\n",
    "import numpy as np\n",
    "import pandas as pd\n",
    "from PIL import Image\n",
    "from matplotlib.patches import Rectangle\n",
    "from dotenv import load_dotenv"
   ]
  },
  {
   "cell_type": "code",
   "execution_count": 16,
   "metadata": {},
   "outputs": [],
   "source": [
    "load_dotenv()\n",
    "\n",
    "def sliding_window(input_list, window_size=3, stride=1):\n",
    "    result = []\n",
    "    for i in range(0, len(input_list) - window_size + 1, stride):\n",
    "        result.append(input_list[i:i + window_size])\n",
    "    return result"
   ]
  },
  {
   "cell_type": "code",
   "execution_count": null,
   "metadata": {},
   "outputs": [],
   "source": [
    "#Visualize 2.5D slice (-s, s, +s)\n",
    "im_paths = [os.getenv(f\"EXAMPLE_DATA_PATH{i}\") for i in range(1, 4)]\n",
    "grouped_paths = sliding_window(im_paths)\n",
    "IMG_SIZE = [512,512]\n",
    "\n",
    "def load_img(path, size=IMG_SIZE):\n",
    "    img = cv2.imread(path, cv2.IMREAD_UNCHANGED)\n",
    "    shape0 = np.array(img.shape[:2])\n",
    "    resize = np.array(size)\n",
    "    if np.any(shape0!=resize):\n",
    "        diff = resize - shape0\n",
    "        pad0 = diff[0]\n",
    "        pad1 = diff[1]\n",
    "        pady = [pad0//2, pad0//2 + pad0%2]\n",
    "        padx = [pad1//2, pad1//2 + pad1%2]\n",
    "        img = np.pad(img, [pady, padx])\n",
    "        img = img.reshape(tuple(*resize))\n",
    "\n",
    "    return img\n",
    "\n",
    "\n",
    "def show_img(img, mask=None):\n",
    "    plt.imshow(img, cmap='bone')\n",
    "    #plt.axis('off')\n",
    "    \n",
    "def load_imgs(img_paths, size=IMG_SIZE):\n",
    "    imgs = np.zeros((*size, len(img_paths)), dtype=np.uint16)\n",
    "    for i, img_path in enumerate(img_paths):\n",
    "        img = load_img(img_path, size=size)\n",
    "        imgs[..., i]+=img\n",
    "    return imgs\n",
    "\n",
    "for group in grouped_paths:\n",
    "    plt.figure(figsize=(20, 10))\n",
    "\n",
    "    plt.subplot(1, 2, 1)\n",
    "    img = load_img(group[0]).astype('float32')\n",
    "    img/=img.max()\n",
    "    plt.imshow(img)\n",
    "    #plt.axis('off')\n",
    "\n",
    "\n",
    "    plt.subplot(1, 2, 2)\n",
    "    imgs = load_imgs(group).astype('float32')\n",
    "    imgs/=imgs.max(axis=(0,1))\n",
    "    plt.imshow(imgs)\n",
    "    #plt.axis('off')\n",
    "\n",
    "    #plt.tight_layout()\n",
    "    plt.show()"
   ]
  }
 ],
 "metadata": {
  "kernelspec": {
   "display_name": "tf-gpu",
   "language": "python",
   "name": "python3"
  },
  "language_info": {
   "codemirror_mode": {
    "name": "ipython",
    "version": 3
   },
   "file_extension": ".py",
   "mimetype": "text/x-python",
   "name": "python",
   "nbconvert_exporter": "python",
   "pygments_lexer": "ipython3",
   "version": "3.9.19"
  }
 },
 "nbformat": 4,
 "nbformat_minor": 2
}
