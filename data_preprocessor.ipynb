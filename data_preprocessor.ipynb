{
 "cells": [
  {
   "cell_type": "code",
   "execution_count": 24,
   "metadata": {},
   "outputs": [
    {
     "data": {
      "text/plain": [
       "True"
      ]
     },
     "execution_count": 24,
     "metadata": {},
     "output_type": "execute_result"
    }
   ],
   "source": [
    "import os\n",
    "import numpy as np_\n",
    "from dotenv import load_dotenv\n",
    "import random\n",
    "import string\n",
    "from pathlib import Path\n",
    "import pandas as pd\n",
    "from PIL import Image \n",
    "load_dotenv(override=True)"
   ]
  },
  {
   "cell_type": "code",
   "execution_count": 26,
   "metadata": {},
   "outputs": [],
   "source": [
    "BASE_DATA_DIR = Path(os.getenv(\"BASE_DATA_DIR\"))\n",
    "TARGET_DATA_DIR = Path(\"data\")\n",
    "\n",
    "#alphanumeric string for patient renaming\n",
    "alphabet = string.ascii_lowercase + string.digits\n",
    "patient_dict = {} #store patient name and id pairs\n",
    "\n",
    "for patient in os.walk(BASE_DATA_DIR):\n",
    "    if len(patient[2]) > 0: #only look at deepest directories which contain images\n",
    "        full_path = Path(patient[0])\n",
    "        angio_location = full_path.name\n",
    "        angio_date = full_path.parent.name\n",
    "        patient_name = full_path.parent.parent.name\n",
    "\n",
    "        patient_id = ''.join(random.choices(alphabet, k=8))\n",
    "        patient_dict[patient_id] = {\"name\": patient_name, \"angio_date\": angio_date, \"angio_location\": angio_location}\n",
    "        \n",
    "        for i, frame in enumerate(patient[2]):\n",
    "            new_img_name = f\"frame{i+1}.png\"\n",
    "            current_img_path = full_path / frame\n",
    "            save_path = TARGET_DATA_DIR / patient_id\n",
    "            if not os.path.exists(save_path):\n",
    "                os.mkdir(save_path)\n",
    "            Image.open(current_img_path).save(save_path / new_img_name)\n",
    "\n",
    "#save the file metadata to the data directory\n",
    "pd.DataFrame(patient_dict).to_csv(\"data/metadata.csv\")"
   ]
  }
 ],
 "metadata": {
  "kernelspec": {
   "display_name": "tf-gpu",
   "language": "python",
   "name": "python3"
  },
  "language_info": {
   "codemirror_mode": {
    "name": "ipython",
    "version": 3
   },
   "file_extension": ".py",
   "mimetype": "text/x-python",
   "name": "python",
   "nbconvert_exporter": "python",
   "pygments_lexer": "ipython3",
   "version": "3.9.19"
  }
 },
 "nbformat": 4,
 "nbformat_minor": 2
}
