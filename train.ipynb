{
 "cells": [
  {
   "cell_type": "code",
   "execution_count": 4,
   "metadata": {},
   "outputs": [
    {
     "name": "stdout",
     "output_type": "stream",
     "text": [
      "Model: \"flow_sentry_3\"\n",
      "_________________________________________________________________\n",
      " Layer (type)                Output Shape              Param #   \n",
      "=================================================================\n",
      " sequential_3 (Sequential)   (None, 5, 25088)          92672     \n",
      "                                                                 \n",
      " lstm_3 (LSTM)               multiple                  12911104  \n",
      "                                                                 \n",
      " dense_3 (Dense)             multiple                  16512     \n",
      "                                                                 \n",
      " dropout_3 (Dropout)         multiple                  0         \n",
      "                                                                 \n",
      " leak_output (Dense)         multiple                  129       \n",
      "                                                                 \n",
      " location_output (Dense)     multiple                  129       \n",
      "                                                                 \n",
      " severity_output (Dense)     multiple                  516       \n",
      "                                                                 \n",
      "=================================================================\n",
      "Total params: 13,021,062\n",
      "Trainable params: 13,021,062\n",
      "Non-trainable params: 0\n",
      "_________________________________________________________________\n"
     ]
    }
   ],
   "source": [
    "import importlib\n",
    "import flowsentry\n",
    "importlib.reload(flowsentry) #reload the module after making cnages to the imported file\n",
    "from flowsentry import FlowSentry\n",
    "\n",
    "model = FlowSentry()\n",
    "input_shape = (5, 128, 128, 1)  # Example input shape\n",
    "model.build(input_shape=(None, *input_shape))\n",
    "model.summary()"
   ]
  }
 ],
 "metadata": {
  "kernelspec": {
   "display_name": "tf-gpu",
   "language": "python",
   "name": "python3"
  },
  "language_info": {
   "codemirror_mode": {
    "name": "ipython",
    "version": 3
   },
   "file_extension": ".py",
   "mimetype": "text/x-python",
   "name": "python",
   "nbconvert_exporter": "python",
   "pygments_lexer": "ipython3",
   "version": "3.9.19"
  }
 },
 "nbformat": 4,
 "nbformat_minor": 2
}
